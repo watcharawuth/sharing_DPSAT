{
  "cells": [
    {
      "cell_type": "code",
      "execution_count": null,
      "metadata": {
        "colab": {
          "base_uri": "https://localhost:8080/"
        },
        "id": "YsFyHiNLRqe_",
        "outputId": "117d5d27-aacd-413e-c24e-734468ac6b9b"
      },
      "outputs": [
        {
          "output_type": "stream",
          "name": "stdout",
          "text": [
            "Drive already mounted at /content/drive; to attempt to forcibly remount, call drive.mount(\"/content/drive\", force_remount=True).\n"
          ]
        }
      ],
      "source": [
        "#DPSAT v.1.0 created by watcharawuth.k@up.ac.th\n",
        "#First Cell Mount and give Authority Google Drive for Google Colab user\n",
        "from google.colab import drive\n",
        "import numpy as np\n",
        "import cv2 as cv\n",
        "import matplotlib.pyplot as plt\n",
        "drive.mount('/content/drive')"
      ]
    },
    {
      "cell_type": "code",
      "execution_count": null,
      "metadata": {
        "id": "pPNb46_KGIuP"
      },
      "outputs": [],
      "source": [
        "#Second Cell Separate the video file into still images of star \n",
        "# the number of file depend on recorded time and frame per seconds ratio \n",
        "#video_path = '/content/drive/My Drive/DPSAT/Arcturus.mp4'   #user can modify the video_path name \n",
        "video_cap = cv.VideoCapture('/content/drive/My Drive/DPSAT/Arcturus.mp4')   #user can modify the video_path name \n",
        "success = True\n",
        "count = 1\n",
        "while success:\n",
        "  success,frame = video_cap.read()\n",
        "  name = '/content/drive/My Drive/DPSAT/'\"Arcturus\"+str(count).zfill(3)+'.jpg'  #Star Name or the oothers samples can modify\n",
        "  if success == True:\n",
        "    cv.imwrite(name,frame)\n",
        "    print('Frame {} Extracted Successfully'.format(count))\n",
        "    count = count+1\n",
        "  else:\n",
        "    break"
      ]
    },
    {
      "cell_type": "code",
      "execution_count": null,
      "metadata": {
        "id": "3FCx1YXgCOaj"
      },
      "outputs": [],
      "source": [
        "#The Third Cell Filename Process and setup parameter for Image Analysis#\n",
        "from glob import glob\n",
        "i = 0\n",
        "img_mask = '/content/drive/My Drive/DPSAT/Arcturus*.jpg'  #object : e.g. \n",
        "img_names = glob(img_mask)\n",
        "for fn in sorted(img_names):\n",
        "    print('processing %s...' % fn,)\n",
        "    i +=1\n",
        "    img = cv.imread(fn, 1)\n",
        "    #print(img.shape)\n",
        "    imggray = cv.cvtColor(img, cv.COLOR_BGR2GRAY)   #Transform image color from RGB to Gray space\n",
        "    ret, thresh = cv.threshold(imggray, 0, 255, 0)\n",
        "    #print(imggray.shape)\n",
        "    datatub=(minVal,maxVal, minLoc, maxLoc) = cv.minMaxLoc(imggray)\n",
        "    \n",
        "    #Aperture Photometry around maximum value \n",
        "    data = np.asarray(datatub)\n",
        "    xcen = data[3][1]\n",
        "    ycen = data[3][0]\n",
        "    centerval = imggray[xcen,ycen]\n",
        " \n",
        "    #square Aperture Photometry around maximum value \n",
        "    aper = 10     #adaptable squared-aperture length (pixels)\n",
        "    hfaper = int(aper/2)   #half of square-lenght\n",
        "    bgsignal = 0   #bgsignal\n",
        "    sumval_bgsignal = 0   #initial value of signal  \n",
        "    count_bgsignal = 0    #initial value of counted pixel\n",
        "    for val in np.nditer(imggray[xcen-hfaper:xcen+hfaper,ycen-hfaper:ycen+hfaper]):\n",
        "        if val >= bgsignal :  \n",
        "          sumval_bgsignal = sumval_bgsignal + val\n",
        "          count_bgsignal = count_bgsignal + 1\n",
        "    pixel = imggray[xcen-hfaper:xcen+hfaper,ycen-hfaper:ycen+hfaper].size  #number of pixel in rectangula aperture \n",
        "    magnitude = -2.5*np.log10(sumval_bgsignal-aper*aper*bgsignal)\n",
        "    print(sumval_bgsignal,count_bgsignal,pixel)   #check value\n",
        "    \n",
        "    #show the processing pictures\n",
        "    cv.rectangle(imggray,(ycen-hfaper,xcen-hfaper),(ycen+hfaper,xcen+hfaper),(255,0,0),1)\n",
        "    cropped = imggray[xcen-hfaper:xcen+hfaper, ycen-hfaper:ycen+hfaper]  #comment for show only rectagular aperture area\n",
        "    #plt.imshow(cv.cvtColor(imggray,cv.COLOR_GRAY2RGB),cmap='gray')\n",
        "    plt.imshow(cv.cvtColor(cropped,cv.COLOR_GRAY2RGB),cmap='gray') #Show cropped image\n",
        "    plt.show()\n",
        "    #print(data) #For Debugging Check out Data\n",
        "    with open('/content/drive/My Drive/DPSAT/arcturusspc2022_ap01.txt','a') as f:\n",
        "        f.write('%d\\t %d\\t %d\\t %d\\t' %(i, data[1], xcen,ycen,))\n",
        "        f.write('%d\\t %d\\t %d\\t %d\\n' %(sumval_bgsignal,count_bgsignal,magnitude,pixel))"
      ]
    },
    {
      "cell_type": "code",
      "execution_count": null,
      "metadata": {
        "id": "2Jh66OM_ayB5"
      },
      "outputs": [],
      "source": [
        "#The Forth Cell data analysis\n",
        "dataplot = np.loadtxt(fname = '/content/drive/My Drive/DPSAT/arcturusspc2022_ap01.txt')    \n",
        "xp = dataplot[0:600,0]/30.0\n",
        "#print(xp)\n",
        "lmax = dataplot[0:600,1] #/dataplot[0][1]  \n",
        "sumval_bgsignal = dataplot[0:600,4] #/dataplot[0][4]  \n",
        "magnitude = dataplot[0:600,6]\n",
        "number_pixel = dataplot[0:600,7] #/dataplot[0][7] \n",
        "#print(fp)\n",
        "#offset = (sum_fwhm - sum_bgsignal)\n",
        "mean_bgsignal=np.mean(sumval_bgsignal)\n",
        "#print(mean_bgsignal)\n",
        "#print(np.std(sumval_bgsignal))\n",
        "\n",
        "fig, (ax1, ax2, ax3) = plt.subplots(3, 1)\n",
        "fig.suptitle('Signals from the example star: Arcturus')\n",
        "fig.set_size_inches(6,8)\n",
        "\n",
        "ax1.set_title('a) Maximum Signal of still images')\n",
        "ax1.plot(xp, lmax, c = 'k', linestyle ='-')\n",
        "ax1.set_ylabel('signal (count)')\n",
        "ax1.xaxis.set_tick_params(labelbottom=False)\n",
        "ax1.grid(True)\n",
        "\n",
        "ax2.set_title('b) Summation of Signal from aperture')\n",
        "ax2.plot(xp, sumval_bgsignal, c= 'k', linestyle ='-')\n",
        "ax2.set_ylabel('Signal (count)')\n",
        "ax2.xaxis.set_tick_params(labelbottom=False)\n",
        "ax2.grid(True)\n",
        "\n",
        "ax3.set_title('c) instrument magnitude from square aperture pixels')\n",
        "ax3.plot(xp, magnitude, c= 'k', linestyle ='-')\n",
        "ax3.invert_yaxis()\n",
        "ax3.set_xlabel('time (s)')\n",
        "ax3.set_ylabel('instrument magnitude')\n",
        "ax3.grid(True)\n",
        "\n",
        "#plt.show()\n",
        "plt.savefig('/content/drive/My Drive/DPSAT/graph01.png',dpi=640) #Change the number 16 as aper parameter in the 3 cell "
      ]
    }
  ],
  "metadata": {
    "colab": {
      "collapsed_sections": [],
      "provenance": []
    },
    "kernelspec": {
      "display_name": "Python 3",
      "name": "python3"
    }
  },
  "nbformat": 4,
  "nbformat_minor": 0
}